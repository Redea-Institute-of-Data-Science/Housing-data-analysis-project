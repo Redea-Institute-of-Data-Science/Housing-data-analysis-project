{
 "cells": [
  {
   "cell_type": "markdown",
   "id": "75c433c6",
   "metadata": {},
   "source": [
    "<p style=\"text-align:left\">\n",
    "    <a href=\"https://rids.ac.ug\" target=\"_blank\">\n",
    "    <img src=\"https://rids.ac.ug/wp-content/uploads/2024/02/redea-icon-fin.png\" width=\"75\" alt=\"Redea Logo\">\n",
    "    </a>\n",
    "</p>\n",
    "\n",
    "<h1 align=\"left\"><font size=\"10\">Project: House Sales in King County, USA </font></h1>\n"
   ]
  },
  {
   "cell_type": "markdown",
   "id": "615dd841",
   "metadata": {},
   "source": [
    "## About the Project\n",
    "This repository contains an assignment for training purposes.\n",
    "This dataset contains house sale prices for King County, which includes Seattle and was taken from [Kagle](https://www.kaggle.com/datasets/harlfoxem/housesalesprediction).\n",
    "\n",
    "Please check out the Repo README.md file for more information\n"
   ]
  },
  {
   "cell_type": "markdown",
   "id": "8cba292d",
   "metadata": {},
   "source": []
  },
  {
   "cell_type": "code",
   "execution_count": null,
   "id": "d26d6fdf",
   "metadata": {},
   "outputs": [],
   "source": []
  }
 ],
 "metadata": {
  "kernelspec": {
   "display_name": "Python 3 (ipykernel)",
   "language": "python",
   "name": "python3"
  },
  "language_info": {
   "codemirror_mode": {
    "name": "ipython",
    "version": 3
   },
   "file_extension": ".py",
   "mimetype": "text/x-python",
   "name": "python",
   "nbconvert_exporter": "python",
   "pygments_lexer": "ipython3",
   "version": "3.11.5"
  }
 },
 "nbformat": 4,
 "nbformat_minor": 5
}
